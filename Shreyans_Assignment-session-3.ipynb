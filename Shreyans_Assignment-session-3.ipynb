{
 "cells": [
  {
   "cell_type": "code",
   "execution_count": 1,
   "metadata": {},
   "outputs": [],
   "source": [
    "import math\n",
    "import random\n",
    "import pandas as pd\n",
    "from functools import reduce, partial"
   ]
  },
  {
   "cell_type": "markdown",
   "metadata": {},
   "source": [
    "## Q-1): Write a function using only list filter lambda that can tell whether a number is a Fibonacci number or not. You can use a pre-calculated list/dict to store fab numbers till 10000"
   ]
  },
  {
   "cell_type": "code",
   "execution_count": 2,
   "metadata": {},
   "outputs": [],
   "source": [
    "def is_fibonacci(number):\n",
    "    \n",
    "    pre_calculate_list = [1, 1]\n",
    "    for _ in range(10000):\n",
    "        pre_calculate_list.append(pre_calculate_list[-1] + pre_calculate_list[-2])\n",
    "\n",
    "    answer = any(filter(lambda x: number == x, pre_calculate_list))\n",
    "\n",
    "    return answer"
   ]
  },
  {
   "cell_type": "markdown",
   "metadata": {},
   "source": [
    "# Q-2): Using list comprehension (and zip/lambda/etc if required) write five different expressions that: "
   ]
  },
  {
   "cell_type": "markdown",
   "metadata": {},
   "source": [
    "## 2.1) add 2 iterables a and b such that a is even and b is odd"
   ]
  },
  {
   "cell_type": "code",
   "execution_count": 3,
   "metadata": {},
   "outputs": [],
   "source": [
    "def add_iter(a,b):\n",
    "    \n",
    "    answer = reduce(lambda x, y: x + y, [x[0] + x[1] for x in zip(a, b) if x[0] % 2 == 0 and x[1] % 2 == 1], 0)\n",
    "    return answer"
   ]
  },
  {
   "cell_type": "markdown",
   "metadata": {},
   "source": [
    "## 2.2) strips every vowel from a string provided (tsai>>t s)"
   ]
  },
  {
   "cell_type": "code",
   "execution_count": 4,
   "metadata": {},
   "outputs": [],
   "source": [
    "def strip_vowel(text): \n",
    "    \n",
    "    answer = ''.join([x for x in text if x not in {'a', 'e', 'i', 'o', 'u', 'A', 'E', 'I', 'O', 'U'}])\n",
    "    return answer"
   ]
  },
  {
   "cell_type": "markdown",
   "metadata": {},
   "source": [
    "## 2.3) acts like a ReLU function for a 1D array"
   ]
  },
  {
   "cell_type": "code",
   "execution_count": 5,
   "metadata": {},
   "outputs": [],
   "source": [
    "def as_relu(arr): \n",
    "    \n",
    "    answer = list(map(lambda x: x if x >= 0 else 0, arr))\n",
    "    return answer"
   ]
  },
  {
   "cell_type": "markdown",
   "metadata": {},
   "source": [
    "## 2.4) acts like a sigmoid function for a 1D array "
   ]
  },
  {
   "cell_type": "code",
   "execution_count": 6,
   "metadata": {},
   "outputs": [],
   "source": [
    "def as_sigmoid(arr): \n",
    "    \n",
    "    answer = list(map(lambda x: math.exp(x) / (math.exp(x) + 1), arr))\n",
    "    return answer"
   ]
  },
  {
   "cell_type": "markdown",
   "metadata": {},
   "source": [
    "## 2.5) takes a small character string and shifts all characters by 5 (handle boundary conditions) tsai>>yxfn"
   ]
  },
  {
   "cell_type": "code",
   "execution_count": 7,
   "metadata": {},
   "outputs": [],
   "source": [
    "def shift_by_five(text): \n",
    "    \n",
    "    answer = ''.join([chr((ord(x) - ord('a') + 5) % 26 + ord('a')) for x in text])\n",
    "    return answer"
   ]
  },
  {
   "cell_type": "markdown",
   "metadata": {},
   "source": [
    "# Q-3): A list comprehension expression that takes a ~200 word paragraph (write your own paragraph to check), and checks whether it has any of the swear words"
   ]
  },
  {
   "cell_type": "code",
   "execution_count": 8,
   "metadata": {},
   "outputs": [],
   "source": [
    "def check_not_swear(text): \n",
    "    \n",
    "    swear_file = pd.read_csv('list.txt',sep='\\n' , header=None)\n",
    "    swear_file.columns = ['words'] \n",
    "    swear_words = swear_file['words'].tolist()\n",
    "    text_words = text.split(' ')\n",
    "    \n",
    "    answer = any([any(filter(lambda x: word == x, swear_words)) for word in text_words])\n",
    "    return answer"
   ]
  },
  {
   "cell_type": "markdown",
   "metadata": {},
   "source": [
    "## Q-4): Using reduce functions:"
   ]
  },
  {
   "cell_type": "markdown",
   "metadata": {},
   "source": [
    "## 4.1): add only even numbers in a list "
   ]
  },
  {
   "cell_type": "code",
   "execution_count": 9,
   "metadata": {},
   "outputs": [],
   "source": [
    "def only_even(numbers):\n",
    "    \n",
    "    answer = reduce(lambda x, y: x if y % 2 == 1 else x + y, numbers, 0)\n",
    "    return answer"
   ]
  },
  {
   "cell_type": "markdown",
   "metadata": {},
   "source": [
    "## 4.2): find the biggest character in a string (printable ascii characters) "
   ]
  },
  {
   "cell_type": "code",
   "execution_count": 10,
   "metadata": {},
   "outputs": [],
   "source": [
    "def biggest_printable_ascii(text): \n",
    "    \n",
    "    answer = reduce(lambda x, y: ord(y) if 32 <= ord(y) <= 127 and ord(y) > x else x, text, 0)\n",
    "    return answer"
   ]
  },
  {
   "cell_type": "markdown",
   "metadata": {},
   "source": [
    "## 4.3) adds every 3rd number in a list "
   ]
  },
  {
   "cell_type": "code",
   "execution_count": 11,
   "metadata": {},
   "outputs": [],
   "source": [
    "def add_third(numbers): \n",
    "    \n",
    "    answer = reduce(lambda x, y: x + y, numbers[2::3], 0)\n",
    "    return answer"
   ]
  },
  {
   "cell_type": "markdown",
   "metadata": {},
   "source": [
    "# Q-5): Using randint, random.choice and list comprehensions, write an expression that generates 15 random KADDAADDDD number plates, where KA is fixed, D stands for a digit, and A stands for Capital alphabets. 10<<DD<<99 & 1000<<DDDD<<9999"
   ]
  },
  {
   "cell_type": "code",
   "execution_count": 12,
   "metadata": {},
   "outputs": [],
   "source": [
    "def generate_number_plates():\n",
    "    \n",
    "    answer = ['KA' + str(random.randint(10, 99)) + chr(random.randint(65, 90)) + chr(random.randint(65, 90)) +\n",
    "              str(random.randint(1000, 9999)) for _ in range(15)]\n",
    "    return answer"
   ]
  },
  {
   "cell_type": "markdown",
   "metadata": {},
   "source": [
    "## Q-6): Write the above again from scratch where KA can be changed to DL, and 1000/9999 ranges can be provided. "
   ]
  },
  {
   "cell_type": "code",
   "execution_count": 15,
   "metadata": {},
   "outputs": [],
   "source": [
    "def generate_number_plates_dl(numbers):\n",
    "    \n",
    "    assert 1000 <= numbers[0] <= numbers[1] <= 9999 , \"Some Number(s) in given list is out of range,Please validate the list!\"\n",
    "\n",
    "    answer = ['DL' + str(random.randint(10, 99)) + chr(random.randint(65, 90)) + chr(random.randint(65, 90)) +\n",
    "              str(random.randint(numbers[0], numbers[1])) for _ in range(15)]\n",
    "    return answer "
   ]
  },
  {
   "cell_type": "code",
   "execution_count": null,
   "metadata": {},
   "outputs": [],
   "source": []
  },
  {
   "cell_type": "code",
   "execution_count": null,
   "metadata": {},
   "outputs": [],
   "source": []
  }
 ],
 "metadata": {
  "kernelspec": {
   "display_name": "Python 3",
   "language": "python",
   "name": "python3"
  },
  "language_info": {
   "codemirror_mode": {
    "name": "ipython",
    "version": 3
   },
   "file_extension": ".py",
   "mimetype": "text/x-python",
   "name": "python",
   "nbconvert_exporter": "python",
   "pygments_lexer": "ipython3",
   "version": "3.7.6"
  }
 },
 "nbformat": 4,
 "nbformat_minor": 4
}
